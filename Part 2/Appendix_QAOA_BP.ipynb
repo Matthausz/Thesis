{
 "cells": [
  {
   "cell_type": "code",
   "execution_count": 3,
   "metadata": {},
   "outputs": [],
   "source": [
    "# the two modules developed for this research\n",
    "import smartQAOA as QAOA\n",
    "import smartMQAOA as mQAOA\n",
    "# File with plotting functions\n",
    "import results_plotter as rp\n",
    "# other relevant modules\n",
    "from itertools import combinations\n",
    "import numpy as np\n",
    "import matplotlib.pyplot as plt\n",
    "from scipy.sparse.linalg import expm\n",
    "import networkx as nx\n",
    "import bisect\n",
    "import os\n",
    "from scipy import stats"
   ]
  },
  {
   "cell_type": "code",
   "execution_count": 4,
   "metadata": {},
   "outputs": [],
   "source": [
    "def Standard_QAOA(G,n,p):\n",
    "    Q,qc,gamma_parameters,time_parameters = QAOA.set_up_sim(n,p,G)\n",
    "    \n",
    "    # Reseed to ensure different outputs each time\n",
    "    np.random.seed(None)\n",
    "    gammas = np.random.uniform(0,2*np.pi,size=(p,))\n",
    "\n",
    "    times = np.random.uniform(0,2*np.pi,size=(p,))\n",
    "    result01=QAOA.expectation(Q,qc,G, gamma_parameters, time_parameters, gammas, times, p,optimize=False)\n",
    "\n",
    "    return result01,Q"
   ]
  },
  {
   "cell_type": "code",
   "execution_count": 6,
   "metadata": {},
   "outputs": [
    {
     "name": "stdout",
     "output_type": "stream",
     "text": [
      "For n= 4\n",
      "Variance in the costs:  0.27148007738163527\n",
      "For n= 6\n",
      "Variance in the costs:  0.07419727417040022\n",
      "For n= 8\n",
      "Variance in the costs:  0.01854913849703807\n",
      "For n= 10\n",
      "Variance in the costs:  0.010832029563708531\n",
      "For n= 12\n",
      "Variance in the costs:  0.003121068817876659\n",
      "For n= 14\n",
      "Variance in the costs:  0.0009327128502041493\n",
      "For n= 16\n",
      "Variance in the costs:  0.00025160691423192067\n"
     ]
    }
   ],
   "source": [
    "# Trial 500 sets of random parameters, testing the variance in the costs in accordance with EQ XX in thesis\n",
    "trials=500\n",
    "varianceER = []\n",
    "qubits=[4,6,8,10,12,14,16]\n",
    "for n in qubits:\n",
    "    p= n**2\n",
    "    all_trials=[]\n",
    "    bad_seeds =[]\n",
    "    good_seeds =[]\n",
    "    average_seeds=[]\n",
    "    why_so_slow=[]\n",
    "    costsER=[]\n",
    "    for t in range(trials):\n",
    "        G=QAOA.random_graph(n,G_type=\"random\",weighted=False,seed=1,p=0.3) # fixed graph\n",
    "        result0,c=Standard_QAOA(G,n,p)\n",
    "        costsER.append(result0)\n",
    "    print(\"For n=\",n)\n",
    "    print(\"Variance in the costs: \",np.var(costsER))\n",
    "    varianceER.append(np.var(costsER))"
   ]
  },
  {
   "cell_type": "code",
   "execution_count": 10,
   "metadata": {},
   "outputs": [
    {
     "name": "stdout",
     "output_type": "stream",
     "text": [
      "For n= 4\n",
      "Variance in the costs:  0.7307944534066858\n",
      "For n= 6\n",
      "Variance in the costs:  0.9707924992144731\n",
      "For n= 8\n",
      "Variance in the costs:  0.08662422601250214\n",
      "For n= 10\n",
      "Variance in the costs:  0.03279080526199949\n",
      "For n= 12\n",
      "Variance in the costs:  0.008303990339423733\n",
      "For n= 14\n",
      "Variance in the costs:  0.0006131578061993919\n",
      "For n= 16\n",
      "Variance in the costs:  0.0006840235505273774\n"
     ]
    }
   ],
   "source": [
    "# Trial 500 sets of random parameters, testing the variance in the costs in accordance with EQ XX in thesis\n",
    "trials=500\n",
    "variance3R = []\n",
    "qubits=[4,6,8,10,12,14,16]\n",
    "for n in qubits:\n",
    "    p= n**2\n",
    "    all_trials=[]\n",
    "    bad_seeds =[]\n",
    "    good_seeds =[]\n",
    "    average_seeds=[]\n",
    "    why_so_slow=[]\n",
    "    costs=[]\n",
    "    for t in range(trials):\n",
    "        G=mQAOA.random_graph(n,G_type=\"3-regular\",weighted=False,seed=1,p=0.3) # fixed graph\n",
    "        result0,c=Standard_QAOA(G,n,p)\n",
    "        costs.append(result0)\n",
    "    print(\"For n=\",n)\n",
    "    print(\"Variance in the costs: \",np.var(costs))\n",
    "    variance3R.append(np.var(costs))"
   ]
  },
  {
   "cell_type": "code",
   "execution_count": null,
   "metadata": {},
   "outputs": [],
   "source": []
  }
 ],
 "metadata": {
  "kernelspec": {
   "display_name": "Python 3",
   "language": "python",
   "name": "python3"
  },
  "language_info": {
   "codemirror_mode": {
    "name": "ipython",
    "version": 3
   },
   "file_extension": ".py",
   "mimetype": "text/x-python",
   "name": "python",
   "nbconvert_exporter": "python",
   "pygments_lexer": "ipython3",
   "version": "3.12.3"
  }
 },
 "nbformat": 4,
 "nbformat_minor": 2
}
